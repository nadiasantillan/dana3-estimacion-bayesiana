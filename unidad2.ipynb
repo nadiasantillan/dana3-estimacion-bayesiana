{
 "cells": [
  {
   "cell_type": "markdown",
   "id": "0c45ed52",
   "metadata": {},
   "source": [
    "# Unidad 2"
   ]
  },
  {
   "cell_type": "markdown",
   "id": "f9d89cd8",
   "metadata": {},
   "source": [
    "## Situación 1:\n",
    "Sea p la proporción de estudiantes de una universidad que aprueban las políticas gubernamentales\n",
    "sobre becas estudiantiles. El periódico estudiantil toma una muestra aleatoria de n = 30 estudiantes\n",
    "de la universidad y registra si los estudiantes aprueban las políticas gubernamentales sobre\n",
    "asignación de becas.\n",
    "\n",
    "(a) ¿Cuál es la distribución de y, el número de respuestas “si”?\n",
    "\n",
    "(b) Suponga que, de los 30 estudiantes, 8 contestaron que sí. ¿Cuál es el estimador frecuentista de p?\n",
    "\n",
    "(c) Encuentre la distribución final de p, f(p|y), si se usa una inicial uniforme.\n",
    "\n",
    "(d) Cuál sería el estimador Bayesiano de p?"
   ]
  },
  {
   "cell_type": "markdown",
   "id": "0e7d34e8",
   "metadata": {},
   "source": [
    "### Solución\n",
    "\n",
    "(a) Distribución de número de respuesta si.\n",
    "\n",
    "No se conoce, se podría tomar una distribución a priori no informativa como una uniforme modelada \n",
    "como $Beta(\\theta, \\alpha=1, \\beta=1)$.\n",
    "\n",
    "(b) Suponga que, de los 30 estudiantes, 8 contestaron que sí. ¿Cuál es el estimador frecuentista de p?\n",
    "\n",
    "$$p=\\frac{8}{30}=\\frac{2}{15}$$\n",
    "\n",
    "(c) Encuentre la distribución final de p, f(p|y), si se usa una inicial uniforme.\n",
    "\n",
    "$$p(\\theta) = Beta(\\theta, \\alpha=1, \\beta=1) \\propto \\theta^{\\alpha-1} (1-\\theta)^{\\beta-1}$$\n",
    "\n",
    "Verosimilitud\n",
    "$$p(y|\\theta)=Binomial(y = 8, n=30, p=\\theta) \\propto \\theta^8 (1-\\theta)^{30-8}$$\n",
    "\n",
    "Distribución final\n",
    "$$p(\\theta|y)=p(y|\\theta)p(\\theta)$$\n",
    "\n",
    "$$p(\\theta|y)\\propto \\theta^{1-1} (1-\\theta)^{1-1} \\theta^8 (1-\\theta)^{30-8}$$\n",
    "\n",
    "$$p(\\theta|y)\\propto \\theta^{8+1-1} (1-\\theta)^{30+1-8-1} =\\theta^{9-1} (1-\\theta)^{23-1}$$\n",
    "\n",
    "$$p(\\theta|y)\\propto Beta(\\theta, \\alpha=9, \\beta=23)$$\n",
    "\n",
    "(d) Cuál sería el estimador Bayesiano de p?\n",
    "\n",
    "$$Modo = \\frac{\\alpha-1}{\\alpha+\\beta-2}=\\frac{8}{30}=0.267$$\n",
    "$$Media = \\frac{\\alpha}{\\alpha+\\beta}=\\frac{9}{32}=0.281$$\n",
    "\n",
    "Cálculo numérico de la mediana\n",
    "$$P(p <= p_{med}|D)= 0.5$$\n",
    "p = 0.277"
   ]
  },
  {
   "cell_type": "code",
   "execution_count": 3,
   "id": "d56ef2cd",
   "metadata": {
    "vscode": {
     "languageId": "r"
    }
   },
   "outputs": [
    {
     "data": {
      "text/html": [
       "0.276645283747948"
      ],
      "text/latex": [
       "0.276645283747948"
      ],
      "text/markdown": [
       "0.276645283747948"
      ],
      "text/plain": [
       "[1] 0.2766453"
      ]
     },
     "metadata": {},
     "output_type": "display_data"
    }
   ],
   "source": [
    "qbeta(0.5, 9, 23)"
   ]
  },
  {
   "cell_type": "markdown",
   "id": "ef312f97",
   "metadata": {},
   "source": [
    "## Situación 2:\n",
    "\n",
    "En el estudio de la calidad del agua en los arroyos de Nueva Zelanda documentados en McBride et\n",
    "al. (2002) un alto nivel de Campylobacter se define como un nivel mayor que 100 por cada 100 ml\n",
    "de agua corriente; n = 116 muestras fueron tomadas de arroyos que tiene un alto impacto ambiental\n",
    "para las aves. De estas 11 resultaron tener alto nivel de Campylobacter. Sea p la verdadera\n",
    "probabilidad de que una muestra de agua de este tipo de arroyos tenga un alto nivel de\n",
    "Campylobacter.\n",
    "\n",
    "(a) Obtenga el estimador frecuentista de p.\n",
    "\n",
    "(b) Utilice un Beta (1, 10) como inicial y obtenga la distribución posterior de p.\n",
    "\n",
    "(c) Encuentre la media y la varianza posterior. ¿Cuál es el estimador Bayesiano para p?\n",
    "\n",
    "(d) Encuentre un intervalo de credibilidad del 95% para p."
   ]
  },
  {
   "cell_type": "markdown",
   "id": "536f773a",
   "metadata": {},
   "source": [
    "### Solución\n",
    "\n",
    "(a) Obtenga el estimador frecuentista de p.\n",
    "\n",
    "$$p = \\frac{11}{116}=0.0948$$\n",
    "\n",
    "(b) Utilice un Beta (1, 10) como inicial y obtenga la distribución posterior de p.\n",
    "\n",
    "Distribución a priori\n",
    "$$p(\\theta)=Beta(\\theta, \\alpha=1, \\beta=10)$$\n",
    "\n",
    "Verosimilitud\n",
    "\n",
    "$$p(y|\\theta)=Binomial(y=11, n=116, p=\\theta)$$\n",
    "\n",
    "Distribución posterior\n",
    "$$p(\\theta|y)\\propto Beta(\\theta, \\alpha=12, \\beta=115)$$\n",
    "\n",
    "(c) Encuentre la media y la varianza posterior. ¿Cuál es el estimador Bayesiano para p?\n",
    "\n",
    "Media\n",
    "$$E[\\theta|y]=\\frac{\\alpha}{\\alpha+\\beta}=\\frac{12}{12+115}=0.0945$$\n",
    "\n",
    "Mediana\n",
    "\n",
    "Se calcula numéricamente\n",
    "$$P(p <= p_{med}|D)= 0.5$$\n",
    "$$p=0.0924$$ "
   ]
  },
  {
   "cell_type": "code",
   "execution_count": 1,
   "id": "617f4e2f",
   "metadata": {
    "vscode": {
     "languageId": "r"
    }
   },
   "outputs": [
    {
     "data": {
      "text/html": [
       "0.0923608528980051"
      ],
      "text/latex": [
       "0.0923608528980051"
      ],
      "text/markdown": [
       "0.0923608528980051"
      ],
      "text/plain": [
       "[1] 0.09236085"
      ]
     },
     "metadata": {},
     "output_type": "display_data"
    }
   ],
   "source": [
    "qbeta(0.5, 12, 115)"
   ]
  },
  {
   "cell_type": "code",
   "execution_count": 5,
   "id": "bd33b4b6",
   "metadata": {
    "vscode": {
     "languageId": "r"
    }
   },
   "outputs": [
    {
     "data": {
      "image/png": "[encoded data removed]",
      "text/plain": [
       "plot without title"
      ]
     },
     "metadata": {
      "image/png": {
       "height": 420,
       "width": 420
      }
     },
     "output_type": "display_data"
    }
   ],
   "source": [
    "p = seq(0, 1, length=100)\n",
    "plot(p, dbeta(p, 12, 115), type='l')"
   ]
  },
  {
   "cell_type": "markdown",
   "id": "c287fe58",
   "metadata": {},
   "source": [
    "(d) Encuentre un intervalo de credibilidad del 95% para p."
   ]
  },
  {
   "cell_type": "code",
   "execution_count": 8,
   "id": "26188355",
   "metadata": {
    "vscode": {
     "languageId": "r"
    }
   },
   "outputs": [
    {
     "name": "stdout",
     "output_type": "stream",
     "text": [
      "0.05 0.151"
     ]
    }
   ],
   "source": [
    "cat(round(qbeta(.025, 12, 115), 3), round(qbeta(0.975, 12, 115), 3))"
   ]
  },
  {
   "cell_type": "markdown",
   "id": "c7a4f2f3",
   "metadata": {},
   "source": [
    "## Situación 4:\n",
    "Retomando el problema 2 del parcial: Un estadístico compra un paquete de 10 pelotas nuevas de\n",
    "golf, deja caer cada pelota a una altura de un metro, y registra las medidas de la altura del primer\n",
    "rebote en centímetros. Los diez valores son:\n",
    "79,9 80 78,9 78,5 75,6 80,5 82,5 80,1 81,6 76,7\n",
    "Se asume que la altura de rebote (en cm) es $Normal (μ, 2^2)$.\n",
    "\n",
    "(a) Suponga una inicial $Normal (75, 10^2)$ y encuentre la distribución posterior de μ.\n",
    "\n",
    "(b) Calcular un intervalo de credibilidad Bayesiano del 95% para μ."
   ]
  },
  {
   "cell_type": "markdown",
   "id": "20c7fdaa",
   "metadata": {},
   "source": [
    "### Solución\n",
    "\n",
    "(a) Suponga una inicial $Normal (75, 10^2)$ y encuentre la distribución posterior de μ.\n",
    "\n",
    "$$P(\\mu|y)=P(y|\\mu)P(\\mu)=Normal (μ, 2^2)Normal(75, 10^2)$$\n",
    "$$P(\\mu|y)=Normal(\\frac{\\frac{\\mu_0}{\\sigma_0^2}+\\frac{n\\overline{y}}{\\sigma_y^2}}{\\frac{1}{\\sigma_0^2}+{\\frac{n}{\\sigma_y^2}}})$$\n"
   ]
  },
  {
   "cell_type": "code",
   "execution_count": 16,
   "id": "dce2d101",
   "metadata": {
    "vscode": {
     "languageId": "r"
    }
   },
   "outputs": [
    {
     "data": {
      "text/html": [
       "79.412"
      ],
      "text/latex": [
       "79.412"
      ],
      "text/markdown": [
       "79.412"
      ],
      "text/plain": [
       "[1] 79.412"
      ]
     },
     "metadata": {},
     "output_type": "display_data"
    },
    {
     "data": {
      "text/html": [
       "0.398"
      ],
      "text/latex": [
       "0.398"
      ],
      "text/markdown": [
       "0.398"
      ],
      "text/plain": [
       "[1] 0.398"
      ]
     },
     "metadata": {},
     "output_type": "display_data"
    }
   ],
   "source": [
    "sample <- c(79.9, 80, 78.9, 78.5, 75.6, 80.5, 82.5, 80.1, 81.6, 76.7)\n",
    "ny <- sum(sample)\n",
    "n <- length(sample)\n",
    "\n",
    "v <- 1/(1/100+n/4)\n",
    "m <- (75/100+ny/4)*v\n",
    "round(m, 3)\n",
    "round(v, 3)"
   ]
  },
  {
   "cell_type": "markdown",
   "id": "13942f32",
   "metadata": {},
   "source": [
    "La distribución posterior está dada por\n",
    "\n",
    "$$Normal(79.412, 0.398)$$\n",
    "\n",
    "(b) Calcular un intervalo de credibilidad Bayesiano del 95% para μ."
   ]
  },
  {
   "cell_type": "code",
   "execution_count": 30,
   "id": "5d1b646b",
   "metadata": {
    "vscode": {
     "languageId": "r"
    }
   },
   "outputs": [
    {
     "data": {
      "image/png": "[encoded data removed]",
      "text/plain": [
       "plot without title"
      ]
     },
     "metadata": {
      "image/png": {
       "height": 420,
       "width": 420
      }
     },
     "output_type": "display_data"
    }
   ],
   "source": [
    "x <- seq(76, 84, length=100)\n",
    "plot(x, dnorm(x, m, sqrt(v)), type=\"l\")"
   ]
  },
  {
   "cell_type": "code",
   "execution_count": 27,
   "id": "34223db1",
   "metadata": {
    "vscode": {
     "languageId": "r"
    }
   },
   "outputs": [
    {
     "data": {
      "text/html": [
       "78"
      ],
      "text/latex": [
       "78"
      ],
      "text/markdown": [
       "78"
      ],
      "text/plain": [
       "[1] 78"
      ]
     },
     "metadata": {},
     "output_type": "display_data"
    },
    {
     "data": {
      "text/html": [
       "81"
      ],
      "text/latex": [
       "81"
      ],
      "text/markdown": [
       "81"
      ],
      "text/plain": [
       "[1] 81"
      ]
     },
     "metadata": {},
     "output_type": "display_data"
    }
   ],
   "source": [
    "round(qnorm(.025, m, sqrt(v)))\n",
    "round(qnorm(.975, m, sqrt(v)))"
   ]
  }
 ],
 "metadata": {
  "kernelspec": {
   "display_name": "R",
   "language": "R",
   "name": "ir"
  },
  "language_info": {
   "codemirror_mode": "r",
   "file_extension": ".r",
   "mimetype": "text/x-r-source",
   "name": "R",
   "pygments_lexer": "r",
   "version": "4.4.3"
  }
 },
 "nbformat": 4,
 "nbformat_minor": 5
}
