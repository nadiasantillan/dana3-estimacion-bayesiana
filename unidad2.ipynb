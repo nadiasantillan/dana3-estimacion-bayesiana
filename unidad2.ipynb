{
 "cells": [
  {
   "cell_type": "markdown",
   "id": "0c45ed52",
   "metadata": {},
   "source": [
    "# Unidad 2"
   ]
  },
  {
   "cell_type": "markdown",
   "id": "f9d89cd8",
   "metadata": {},
   "source": [
    "## Situación 1:\n",
    "Sea p la proporción de estudiantes de una universidad que aprueban las políticas gubernamentales\n",
    "sobre becas estudiantiles. El periódico estudiantil toma una muestra aleatoria de n = 30 estudiantes\n",
    "de la universidad y registra si los estudiantes aprueban las políticas gubernamentales sobre\n",
    "asignación de becas.\n",
    "\n",
    "(a) ¿Cuál es la distribución de y, el número de respuestas “si”?\n",
    "\n",
    "(b) Suponga que, de los 30 estudiantes, 8 contestaron que sí. ¿Cuál es el estimador frecuentista de p?\n",
    "\n",
    "(c) Encuentre la distribución final de p, f(p|y), si se usa una inicial uniforme.\n",
    "\n",
    "(d) Cuál sería el estimador Bayesiano de p?"
   ]
  },
  {
   "cell_type": "markdown",
   "id": "0e7d34e8",
   "metadata": {},
   "source": [
    "### Solución\n",
    "\n",
    "(a) Distribución de número de respuesta si.\n",
    "\n",
    "No se conoce, se podría tomar una distribución a priori no informativa como una uniforme modelada \n",
    "como $Beta(\\theta, \\alpha=1, \\beta=1)$.\n",
    "\n",
    "(b) Suponga que, de los 30 estudiantes, 8 contestaron que sí. ¿Cuál es el estimador frecuentista de p?\n",
    "\n",
    "$$p=\\frac{8}{30}=\\frac{2}{15}$$\n",
    "\n",
    "(c) Encuentre la distribución final de p, f(p|y), si se usa una inicial uniforme.\n",
    "\n",
    "$$p(\\theta) = Beta(\\theta, \\alpha=1, \\beta=1) \\propto \\theta^{\\alpha-1} (1-\\theta)^{\\beta-1}$$\n",
    "\n",
    "Verosimilitud\n",
    "$$p(y|\\theta)=Binomial(y = 8, n=30, p=\\theta) \\propto \\theta^8 (1-\\theta)^{30-8}$$\n",
    "\n",
    "Distribución final\n",
    "$$p(\\theta|y)=p(y|\\theta)p(\\theta)$$\n",
    "\n",
    "$$p(\\theta|y)\\propto \\theta^{1-1} (1-\\theta)^{1-1} \\theta^8 (1-\\theta)^{30-8}$$\n",
    "\n",
    "$$p(\\theta|y)\\propto \\theta^{8+1-1} (1-\\theta)^{30+1-8-1} =\\theta^{9-1} (1-\\theta)^{23-1}$$\n",
    "\n",
    "$$p(\\theta|y)\\propto Beta(\\theta, \\alpha=9, \\beta=23)$$\n",
    "\n",
    "(d) Cuál sería el estimador Bayesiano de p?\n",
    "\n",
    "$$Modo = \\frac{\\alpha-1}{\\alpha+\\beta-2}=\\frac{8}{30}=0.267$$\n",
    "$$Media = \\frac{\\alpha}{\\alpha+\\beta}=\\frac{9}{32}=0.281$$\n",
    "\n",
    "Cálculo numérico de la mediana\n",
    "$$P(p <= p_{med}|D)= 0.5$$\n",
    "p = 0.277"
   ]
  },
  {
   "cell_type": "code",
   "execution_count": 3,
   "id": "d56ef2cd",
   "metadata": {
    "vscode": {
     "languageId": "r"
    }
   },
   "outputs": [
    {
     "data": {
      "text/html": [
       "0.276645283747948"
      ],
      "text/latex": [
       "0.276645283747948"
      ],
      "text/markdown": [
       "0.276645283747948"
      ],
      "text/plain": [
       "[1] 0.2766453"
      ]
     },
     "metadata": {},
     "output_type": "display_data"
    }
   ],
   "source": [
    "qbeta(0.5, 9, 23)"
   ]
  }
 ],
 "metadata": {
  "kernelspec": {
   "display_name": "R",
   "language": "R",
   "name": "ir"
  },
  "language_info": {
   "codemirror_mode": "r",
   "file_extension": ".r",
   "mimetype": "text/x-r-source",
   "name": "R",
   "pygments_lexer": "r",
   "version": "4.4.3"
  }
 },
 "nbformat": 4,
 "nbformat_minor": 5
}
