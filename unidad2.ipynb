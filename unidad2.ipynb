{
 "cells": [
  {
   "cell_type": "markdown",
   "id": "0c45ed52",
   "metadata": {},
   "source": [
    "# Unidad 2\n",
    "## Definición de funciones"
   ]
  },
  {
   "cell_type": "code",
   "execution_count": 15,
   "id": "330756e5",
   "metadata": {
    "vscode": {
     "languageId": "r"
    }
   },
   "outputs": [],
   "source": [
    "dbinom <- function(a, b) {\n",
    "    p <- seq(a-b+1, b)\n",
    "    size <- length((p))\n",
    "    prod <- 1\n",
    "    for (i in 1:size) {\n",
    "        prod <- prod * p[i]\n",
    "    }\n",
    "    prod/factorial(b)\n",
    "}"
   ]
  },
  {
   "cell_type": "markdown",
   "id": "ca2eabb5",
   "metadata": {},
   "source": [
    "## Uso de Bibliotecas"
   ]
  },
  {
   "cell_type": "code",
   "execution_count": 16,
   "id": "f328e971",
   "metadata": {
    "vscode": {
     "languageId": "r"
    }
   },
   "outputs": [],
   "source": [
    "library(VeryLargeIntegers)"
   ]
  },
  {
   "cell_type": "markdown",
   "id": "f9d89cd8",
   "metadata": {},
   "source": [
    "## Situación 1:\n",
    "Sea p la proporción de estudiantes de una universidad que aprueban las políticas gubernamentales\n",
    "sobre becas estudiantiles. El periódico estudiantil toma una muestra aleatoria de n = 30 estudiantes\n",
    "de la universidad y registra si los estudiantes aprueban las políticas gubernamentales sobre\n",
    "asignación de becas.\n",
    "\n",
    "(a) ¿Cuál es la distribución de y, el número de respuestas “si”?\n",
    "\n",
    "(b) Suponga que, de los 30 estudiantes, 8 contestaron que sí. ¿Cuál es el estimador frecuentista de p?\n",
    "\n",
    "(c) Encuentre la distribución final de p, f(p|y), si se usa una inicial uniforme.\n",
    "\n",
    "(d) Cuál sería el estimador Bayesiano de p?"
   ]
  },
  {
   "cell_type": "markdown",
   "id": "0e7d34e8",
   "metadata": {},
   "source": [
    "### Solución\n",
    "\n",
    "(a) Distribución de número de respuesta si.\n",
    "\n",
    "Si bien no se conoce la probabilidad de una respuesta afirmativa, la distribución del número de respuestas sí se puede modelar como:\n",
    "$$P(X = x) = Binomial(X=x, n=30, p)$$\n",
    "\n",
    "(b) Suponga que, de los 30 estudiantes, 8 contestaron que sí. ¿Cuál es el estimador frecuentista de p?\n",
    "\n",
    "$$p=\\frac{8}{30}=\\frac{4}{15}=0.267$$\n",
    "\n",
    "(c) Encuentre la distribución final de p, f(p|y), si se usa una inicial uniforme.\n",
    "\n",
    "$$p(\\theta) = Beta(\\theta, \\alpha=1, \\beta=1) \\propto \\theta^{\\alpha-1} (1-\\theta)^{\\beta-1}$$\n",
    "\n",
    "Verosimilitud\n",
    "$$p(y|\\theta)=Binomial(y = 8, n=30, p=\\theta) \\propto \\theta^8 (1-\\theta)^{30-8}$$\n",
    "\n",
    "Distribución final\n",
    "$$p(\\theta|y)=p(y|\\theta)p(\\theta)$$\n",
    "\n",
    "$$p(\\theta|y)\\propto \\theta^{1-1} (1-\\theta)^{1-1} \\theta^8 (1-\\theta)^{30-8}$$\n",
    "\n",
    "$$p(\\theta|y)\\propto \\theta^{8+1-1} (1-\\theta)^{30+1-8-1} =\\theta^{9-1} (1-\\theta)^{23-1}$$\n",
    "\n",
    "$$p(\\theta|y)\\propto Beta(\\theta, \\alpha=9, \\beta=23)$$\n",
    "\n",
    "(d) Cuál sería el estimador Bayesiano de p?\n",
    "\n",
    "Si se minimiza el error 0-1:\n",
    "$$Modo = \\frac{\\alpha-1}{\\alpha+\\beta-2}=\\frac{8}{30}=0.267$$\n",
    "\n",
    "Si se minimiza el error cuadrático:\n",
    "$$Media = \\frac{\\alpha}{\\alpha+\\beta}=\\frac{9}{32}=0.281$$\n",
    "\n",
    "Si se minimiza el error absoluto, el estimador es la mediana. Cálculo numérico de la mediana\n",
    "$$P(p <= p_{med}|D)= 0.5$$\n",
    "p = 0.277"
   ]
  },
  {
   "cell_type": "code",
   "execution_count": 7,
   "id": "d56ef2cd",
   "metadata": {
    "vscode": {
     "languageId": "r"
    }
   },
   "outputs": [
    {
     "data": {
      "text/html": [
       "0.276645283747948"
      ],
      "text/latex": [
       "0.276645283747948"
      ],
      "text/markdown": [
       "0.276645283747948"
      ],
      "text/plain": [
       "[1] 0.2766453"
      ]
     },
     "metadata": {},
     "output_type": "display_data"
    }
   ],
   "source": [
    "qbeta(0.5, 9, 23)"
   ]
  },
  {
   "cell_type": "markdown",
   "id": "ef312f97",
   "metadata": {},
   "source": [
    "## Situación 2:\n",
    "\n",
    "En el estudio de la calidad del agua en los arroyos de Nueva Zelanda documentados en McBride et\n",
    "al. (2002) un alto nivel de Campylobacter se define como un nivel mayor que 100 por cada 100 ml\n",
    "de agua corriente; n = 116 muestras fueron tomadas de arroyos que tiene un alto impacto ambiental\n",
    "para las aves. De estas 11 resultaron tener alto nivel de Campylobacter. Sea p la verdadera\n",
    "probabilidad de que una muestra de agua de este tipo de arroyos tenga un alto nivel de\n",
    "Campylobacter.\n",
    "\n",
    "(a) Obtenga el estimador frecuentista de p.\n",
    "\n",
    "(b) Utilice un Beta (1, 10) como inicial y obtenga la distribución posterior de p.\n",
    "\n",
    "(c) Encuentre la media y la varianza posterior. ¿Cuál es el estimador Bayesiano para p?\n",
    "\n",
    "(d) Encuentre un intervalo de credibilidad del 95% para p.\n",
    "\n",
    "(e) Contraste las hipótesis H0: p = 0,10 vs. H1: p≠ 0,10 con un nivel de significancia del\n",
    "5%."
   ]
  },
  {
   "cell_type": "markdown",
   "id": "536f773a",
   "metadata": {},
   "source": [
    "### Solución\n",
    "\n",
    "(a) Obtenga el estimador frecuentista de p.\n",
    "\n",
    "$$p = \\frac{11}{116}=0.0948$$\n",
    "\n",
    "(b) Utilice un Beta (1, 10) como inicial y obtenga la distribución posterior de p.\n",
    "\n",
    "Distribución a priori\n",
    "$$p(\\theta)=Beta(\\theta, \\alpha=1, \\beta=10)$$\n",
    "\n",
    "Verosimilitud\n",
    "\n",
    "$$p(y|\\theta)=Binomial(y=11, n=116, p=\\theta)$$\n",
    "\n",
    "Distribución posterior\n",
    "$$p(\\theta|y)\\propto Beta(\\theta, \\alpha=12, \\beta=115)$$\n",
    "\n",
    "(c) Encuentre la media y la varianza posterior. ¿Cuál es el estimador Bayesiano para p?\n",
    "\n",
    "Media\n",
    "$$E[\\theta|y]=\\frac{\\alpha}{\\alpha+\\beta}=\\frac{12}{12+115}=0.0945$$\n",
    "\n",
    "Varianza\n",
    "$$V[\\theta|y]=\\frac{\\alpha\\beta}{(\\alpha+\\beta)^2(\\alpha+\\beta+1)}=\\frac{12.115}{(12+115)^2(12+115+1)}=0.0006684$$\n",
    "Mediana\n",
    "\n",
    "Se calcula numéricamente\n",
    "$$P(p <= p_{med}|D)= 0.5$$\n",
    "$$p=0.0924$$ "
   ]
  },
  {
   "cell_type": "code",
   "execution_count": 8,
   "id": "617f4e2f",
   "metadata": {
    "vscode": {
     "languageId": "r"
    }
   },
   "outputs": [
    {
     "data": {
      "text/html": [
       "0.0923608528980051"
      ],
      "text/latex": [
       "0.0923608528980051"
      ],
      "text/markdown": [
       "0.0923608528980051"
      ],
      "text/plain": [
       "[1] 0.09236085"
      ]
     },
     "metadata": {},
     "output_type": "display_data"
    }
   ],
   "source": [
    "qbeta(0.5, 12, 115)"
   ]
  },
  {
   "cell_type": "code",
   "execution_count": 9,
   "id": "bd33b4b6",
   "metadata": {
    "vscode": {
     "languageId": "r"
    }
   },
   "outputs": [
    {
     "data": {
      "image/png": "[encoded data removed]",
      "text/plain": [
       "plot without title"
      ]
     },
     "metadata": {
      "image/png": {
       "height": 420,
       "width": 420
      }
     },
     "output_type": "display_data"
    }
   ],
   "source": [
    "p = seq(0, 1, length=100)\n",
    "plot(p, dbeta(p, 12, 115), type='l')"
   ]
  },
  {
   "cell_type": "markdown",
   "id": "c287fe58",
   "metadata": {},
   "source": [
    "(d) Encuentre un intervalo de credibilidad del 95% para p."
   ]
  },
  {
   "cell_type": "code",
   "execution_count": 10,
   "id": "26188355",
   "metadata": {
    "vscode": {
     "languageId": "r"
    }
   },
   "outputs": [
    {
     "name": "stdout",
     "output_type": "stream",
     "text": [
      "0.0502 0.1508"
     ]
    }
   ],
   "source": [
    "cat(round(qbeta(.025, 12, 115), 4), round(qbeta(0.975, 12, 115), 4))"
   ]
  },
  {
   "cell_type": "markdown",
   "id": "8de2cbcd",
   "metadata": {},
   "source": [
    "(e) Contraste las hipótesis H0: p = 0,10 vs. H1: p≠ 0,10 con un nivel de significancia del\n",
    "5%.\n",
    "\n",
    "El intérvalo de credibilidad del 95% contine a $p=0.10$ por lo que no hay suficiente evidencia en contra de $H_0$.\n",
    "\n",
    "La probabilidad bajo $H_0$ es:\n",
    "$$\\binom{116}{11}0.10^{11}(1-0.10)^{105}$$"
   ]
  },
  {
   "cell_type": "code",
   "execution_count": 12,
   "id": "4df43413",
   "metadata": {
    "vscode": {
     "languageId": "r"
    }
   },
   "outputs": [
    {
     "data": {
      "text/html": [
       "0.123287907185443"
      ],
      "text/latex": [
       "0.123287907185443"
      ],
      "text/markdown": [
       "0.123287907185443"
      ],
      "text/plain": [
       "[1] 0.1232879"
      ]
     },
     "metadata": {},
     "output_type": "display_data"
    }
   ],
   "source": [
    "dbinom(11, 116, 0.10)"
   ]
  },
  {
   "cell_type": "markdown",
   "id": "fb75589a",
   "metadata": {},
   "source": [
    "La probabilidad bajo $H_1$ es:\n",
    "\n",
    "$$P(p|H_1)=\\int\\binom{116}{11}\\theta^{11}(1-\\theta)^{116-11}\\frac{\\theta^{1-1}(1-\\theta)^{10-1}}{Beta(1,10)}d\\theta$$\n",
    "\n",
    "$$P(p|H_1)=\\binom{116}{11}\\frac{1}{{Beta(1,10)}}\\int\\theta^{12-1}(1-\\theta)^{115-1}d\\theta$$\n",
    "$$\\int\\theta^{12-1}(1-\\theta)^{115-1}d\\theta=Beta(12,115)$$\n",
    "$$Beta(1,10)=\\frac{\\Gamma(1)\\Gamma(10)}{\\Gamma(10+1)}=\\frac{0!9!}{10!}=\\frac{1}{10}$$\n",
    "\n",
    "$$P(p|H_1)=\\binom{116}{11}\\frac{Beta(12,115)}{Beta(1,10)}=0.0336$$\n",
    "\n",
    "Cálculo del factor de Bayes\n",
    "\n",
    "$$FBayes = \\frac{P(X=11|H_0)}{P(X=11|H_1)}=\\frac{Beta(1,10)0.10^{11}(1-0.10)^{105}}{Beta(12,115)}=3.664$$"
   ]
  },
  {
   "cell_type": "code",
   "execution_count": 15,
   "id": "53b065de",
   "metadata": {
    "vscode": {
     "languageId": "r"
    }
   },
   "outputs": [
    {
     "data": {
      "text/html": [
       "0.0336440481308672"
      ],
      "text/latex": [
       "0.0336440481308672"
      ],
      "text/markdown": [
       "0.0336440481308672"
      ],
      "text/plain": [
       "[1] 0.03364405"
      ]
     },
     "metadata": {},
     "output_type": "display_data"
    },
    {
     "data": {
      "text/html": [
       "3.66447898023115"
      ],
      "text/latex": [
       "3.66447898023115"
      ],
      "text/markdown": [
       "3.66447898023115"
      ],
      "text/plain": [
       "[1] 3.664479"
      ]
     },
     "metadata": {},
     "output_type": "display_data"
    }
   ],
   "source": [
    "binom(116,11)*beta(12,115)/beta(1,10)\n",
    "beta(1,10)*(0.10**11)*(0.90**105)/beta(12,115)\n"
   ]
  },
  {
   "cell_type": "markdown",
   "id": "06d1e24e",
   "metadata": {},
   "source": [
    "Como el $BF_{01}>3$ es evidencia moderada a favor de la hipótesis nula $H_0$"
   ]
  },
  {
   "cell_type": "markdown",
   "id": "67e882e6",
   "metadata": {},
   "source": [
    "## Situación 3:\n",
    "\n",
    "En el mismo estudio de la calidad del agua n = 145 muestras fueron tomadas de arroyos que tiene un alto impacto\n",
    "ambiental para la producción láctea. De estas y = 9 resultaron tener alto nivel de Campylobacter. Sea p la verdadera\n",
    "probabilidad de que una muestra de agua de este tipo de arroyos tenga un alto nivel de Campylobacter.\n",
    "\n",
    "(a) Obtenga el estimador frecuentista de p.\n",
    "\n",
    "(b) Utilice un Beta (1, 10) como inicial y obtenga la distribución posterior de p.\n",
    "\n",
    "(c) Encuentre la media y la varianza posterior. ¿Cuál es el estimador Bayesiano para p?\n",
    "\n",
    "(d) Encuentre un intervalo de credibilidad del 95% para p."
   ]
  },
  {
   "cell_type": "markdown",
   "id": "f6ea657a",
   "metadata": {},
   "source": [
    "### Solución\n",
    "\n",
    "(a) Obtenga el estimador frecuentista de p.\n",
    "$$p=\\frac{9}{145}=0.06207$$\n",
    "\n",
    "(b) Utilice un Beta (1, 10) como inicial y obtenga la distribución posterior de p.\n",
    "\n",
    "La verosimilitud está dada por \n",
    "$$Binomial(X = 9, n=145, p=\\theta)$$\n",
    "\n",
    "La distribución posterior resulta:\n",
    "\n",
    "$$P(\\theta|y) \\propto Beta(\\alpha=10, \\beta=146)$$\n",
    "\n",
    "(c) Encuentre la media y la varianza posterior. ¿Cuál es el estimador Bayesiano para p?\n",
    "\n",
    "Media\n",
    "$$E[\\theta|y]=\\frac{\\alpha}{\\alpha+\\beta}=\\frac{10}{10+146}=0.06410$$\n",
    "\n",
    "Varianza\n",
    "$$V[\\theta|y]=\\frac{\\alpha\\beta}{(\\alpha+\\beta)^2(\\alpha+\\beta+1)}=\\frac{10.146}{(10+146)^2(10+146+1)}=0.000382$$\n",
    "\n",
    "(d) Encuentre un intervalo de credibilidad del 95% para p."
   ]
  },
  {
   "cell_type": "code",
   "execution_count": 29,
   "id": "22156ec0",
   "metadata": {
    "vscode": {
     "languageId": "r"
    }
   },
   "outputs": [
    {
     "data": {
      "text/html": [
       "0.0313688450146196"
      ],
      "text/latex": [
       "0.0313688450146196"
      ],
      "text/markdown": [
       "0.0313688450146196"
      ],
      "text/plain": [
       "[1] 0.03136885"
      ]
     },
     "metadata": {},
     "output_type": "display_data"
    },
    {
     "data": {
      "text/html": [
       "0.107361069188172"
      ],
      "text/latex": [
       "0.107361069188172"
      ],
      "text/markdown": [
       "0.107361069188172"
      ],
      "text/plain": [
       "[1] 0.1073611"
      ]
     },
     "metadata": {},
     "output_type": "display_data"
    }
   ],
   "source": [
    "qbeta(0.025, 10, 146)\n",
    "qbeta(0.975, 10, 146)"
   ]
  },
  {
   "cell_type": "markdown",
   "id": "cb432641",
   "metadata": {},
   "source": [
    "(e) Contraste las hipótesis H0: p = 0.09 vs. H1 : p ≠ 0.09 con un nivel de significancia del 5%.\n",
    "\n",
    "El intérvalo del 95% de confianza contiene a 0.09, por lo que no hay evidencia suficiente en contra de $H_0$.\n",
    "\n",
    "Si se calcula el factor de Bayes:\n",
    "\n",
    "$$BF_{10}=\\frac{\\int \\binom{145}{9} \\theta^9(1-\\theta)^{136}\\frac{\\theta^{1-1}(1-\\theta)^{10-1}}{Beta(1,10)}d\\theta}{\\binom{145}{9} 0.06207^9(1-0.06207)^{136}}=\\frac{Beta(10,146)}{Beta(1,10)0.06207^9(1-0.06207)^{136}}=0.272$$\n",
    "\n",
    "$BF_{10}=0.272$ es evidencia en contra de $H_1$ por lo que no se rechaza la hipótesis nula.\n"
   ]
  },
  {
   "cell_type": "code",
   "execution_count": 30,
   "id": "259028d9",
   "metadata": {
    "vscode": {
     "languageId": "r"
    }
   },
   "outputs": [
    {
     "data": {
      "text/html": [
       "0.271691102278502"
      ],
      "text/latex": [
       "0.271691102278502"
      ],
      "text/markdown": [
       "0.271691102278502"
      ],
      "text/plain": [
       "[1] 0.2716911"
      ]
     },
     "metadata": {},
     "output_type": "display_data"
    }
   ],
   "source": [
    "beta(10,146)/((0.06207**9)*((1-0.06207)**136)*beta(1,10))\n"
   ]
  },
  {
   "cell_type": "markdown",
   "id": "c7a4f2f3",
   "metadata": {},
   "source": [
    "## Situación 4:\n",
    "Retomando el problema 2 del parcial: Un estadístico compra un paquete de 10 pelotas nuevas de\n",
    "golf, deja caer cada pelota a una altura de un metro, y registra las medidas de la altura del primer\n",
    "rebote en centímetros. Los diez valores son:\n",
    "79,9 80 78,9 78,5 75,6 80,5 82,5 80,1 81,6 76,7\n",
    "Se asume que la altura de rebote (en cm) es $Normal (μ, 2^2)$.\n",
    "\n",
    "(a) Suponga una inicial $Normal (75, 10^2)$ y encuentre la distribución posterior de μ.\n",
    "\n",
    "(b) Calcular un intervalo de credibilidad Bayesiano del 95% para μ.\n",
    "\n",
    "(c) Realice el contraste de hipótesis bayesiano H0 : μ ≥ 80 vs. H1 : μ < 80 con un nivel de significancia del 5%."
   ]
  },
  {
   "cell_type": "markdown",
   "id": "20c7fdaa",
   "metadata": {},
   "source": [
    "### Solución\n",
    "\n",
    "(a) Suponga una inicial $Normal (75, 10^2)$ y encuentre la distribución posterior de μ.\n",
    "\n",
    "$$P(\\mu|y)=P(y|\\mu)P(\\mu)=Normal (μ, 2^2)Normal(75, 10^2)$$\n",
    "$$P(\\mu|y)=Normal(\\frac{\\frac{\\mu_0}{\\sigma_0^2}+\\frac{n\\overline{y}}{\\sigma_y^2}}{\\frac{1}{\\sigma_0^2}+{\\frac{n}{\\sigma_y^2}}})$$\n"
   ]
  },
  {
   "cell_type": "code",
   "execution_count": 16,
   "id": "dce2d101",
   "metadata": {
    "vscode": {
     "languageId": "r"
    }
   },
   "outputs": [
    {
     "data": {
      "text/html": [
       "79.412"
      ],
      "text/latex": [
       "79.412"
      ],
      "text/markdown": [
       "79.412"
      ],
      "text/plain": [
       "[1] 79.412"
      ]
     },
     "metadata": {},
     "output_type": "display_data"
    },
    {
     "data": {
      "text/html": [
       "0.398"
      ],
      "text/latex": [
       "0.398"
      ],
      "text/markdown": [
       "0.398"
      ],
      "text/plain": [
       "[1] 0.398"
      ]
     },
     "metadata": {},
     "output_type": "display_data"
    }
   ],
   "source": [
    "sample <- c(79.9, 80, 78.9, 78.5, 75.6, 80.5, 82.5, 80.1, 81.6, 76.7)\n",
    "ny <- sum(sample)\n",
    "n <- length(sample)\n",
    "\n",
    "v <- 1/(1/100+n/4)\n",
    "m <- (75/100+ny/4)*v\n",
    "round(m, 3)\n",
    "round(v, 3)"
   ]
  },
  {
   "cell_type": "markdown",
   "id": "13942f32",
   "metadata": {},
   "source": [
    "La distribución posterior está dada por\n",
    "\n",
    "$$Normal(79.412, 0.398)$$\n",
    "\n",
    "(b) Calcular un intervalo de credibilidad Bayesiano del 95% para μ."
   ]
  },
  {
   "cell_type": "code",
   "execution_count": 4,
   "id": "5d1b646b",
   "metadata": {
    "vscode": {
     "languageId": "r"
    }
   },
   "outputs": [
    {
     "data": {
      "image/png": "[encoded data removed]",
      "text/plain": [
       "plot without title"
      ]
     },
     "metadata": {
      "image/png": {
       "height": 420,
       "width": 420
      }
     },
     "output_type": "display_data"
    }
   ],
   "source": [
    "x <- seq(76, 84, length=100)\n",
    "plot(x, dnorm(x, m, sqrt(v)), type=\"l\")"
   ]
  },
  {
   "cell_type": "code",
   "execution_count": 17,
   "id": "34223db1",
   "metadata": {
    "vscode": {
     "languageId": "r"
    }
   },
   "outputs": [
    {
     "data": {
      "text/html": [
       "78.175"
      ],
      "text/latex": [
       "78.175"
      ],
      "text/markdown": [
       "78.175"
      ],
      "text/plain": [
       "[1] 78.175"
      ]
     },
     "metadata": {},
     "output_type": "display_data"
    },
    {
     "data": {
      "text/html": [
       "80.649"
      ],
      "text/latex": [
       "80.649"
      ],
      "text/markdown": [
       "80.649"
      ],
      "text/plain": [
       "[1] 80.649"
      ]
     },
     "metadata": {},
     "output_type": "display_data"
    }
   ],
   "source": [
    "round(qnorm(.025, m, sqrt(v)), 3)\n",
    "round(qnorm(.975, m, sqrt(v)), 3)"
   ]
  },
  {
   "cell_type": "markdown",
   "id": "61754331",
   "metadata": {},
   "source": [
    "(c) Realice el contraste de hipótesis bayesiano H0 : μ ≥ 80 vs. H1 : μ < 80 con un nivel de significancia del 5%."
   ]
  },
  {
   "cell_type": "code",
   "execution_count": 25,
   "id": "53f9b409",
   "metadata": {
    "vscode": {
     "languageId": "r"
    }
   },
   "outputs": [
    {
     "data": {
      "text/html": [
       "'P(H0)= 0.175923744487698'"
      ],
      "text/latex": [
       "'P(H0)= 0.175923744487698'"
      ],
      "text/markdown": [
       "'P(H0)= 0.175923744487698'"
      ],
      "text/plain": [
       "[1] \"P(H0)= 0.175923744487698\""
      ]
     },
     "metadata": {},
     "output_type": "display_data"
    },
    {
     "data": {
      "text/html": [
       "'P(H1)= 0.824076255512302'"
      ],
      "text/latex": [
       "'P(H1)= 0.824076255512302'"
      ],
      "text/markdown": [
       "'P(H1)= 0.824076255512302'"
      ],
      "text/plain": [
       "[1] \"P(H1)= 0.824076255512302\""
      ]
     },
     "metadata": {},
     "output_type": "display_data"
    },
    {
     "data": {
      "text/html": [
       "4.68428101000277"
      ],
      "text/latex": [
       "4.68428101000277"
      ],
      "text/markdown": [
       "4.68428101000277"
      ],
      "text/plain": [
       "[1] 4.684281"
      ]
     },
     "metadata": {},
     "output_type": "display_data"
    }
   ],
   "source": [
    "paste(\"P(H0)=\", 1-pnorm(80,m, sqrt(v)))\n",
    "paste(\"P(H1)=\", pnorm(80,m, sqrt(v)))\n",
    "\n",
    "pnorm(80,m, sqrt(v))/(1-pnorm(80,m, sqrt(v)))"
   ]
  },
  {
   "cell_type": "markdown",
   "id": "8dbc2c56",
   "metadata": {},
   "source": [
    "$$BF_{10}=\\frac{P(\\mu<80|x)}{P(\\mu>=80|x)}=4.684$$\n",
    "\n",
    "El factor de bayes indica una evidencia moderada a favor de $H_1$."
   ]
  },
  {
   "cell_type": "markdown",
   "id": "5b964e2f",
   "metadata": {},
   "source": [
    "## Situación 5:\n",
    "\n",
    "Un modelo Normal tiene varianza igual a 25. Suponga que la distribución inicial para μ es Normal\n",
    "(100,4).\n",
    "\n",
    "(a) Encuentre la probabilidad inicial de que μ < 102.\n",
    "\n",
    "(b) Encuentra un intervalo inicial de máxima densidad al 95% para μ.\n",
    "\n",
    "Una muestra de 50 observaciones del modelo Normal dio como resultado:\n",
    "\n",
    "105, 102, 102,101, 121, 108, 108, 105, 102, 111, 104, 112, 112, 101, 98, 105, 100, 102,\n",
    "101, 96, 110, 110,108, 100, 105, 96, 95, 108, 97, 103, 104, 103, 98, 100, 102, 103, 109,\n",
    "101, 106, 105, 108,108, 104, 106, 109, 107, 100, 101, 106, 103\n",
    "\n",
    "(c) Encuentra la probabilidad posterior de que μ < 102.\n",
    "\n",
    "(d) Encuentra un intervalo posterior de máxima densidad al 95% para μ."
   ]
  },
  {
   "cell_type": "markdown",
   "id": "d56a29c8",
   "metadata": {},
   "source": [
    "### Solución\n",
    "\n",
    "(a) Encuentre la probabilidad inicial de que μ < 102."
   ]
  },
  {
   "cell_type": "code",
   "execution_count": 3,
   "id": "2089d664",
   "metadata": {
    "vscode": {
     "languageId": "r"
    }
   },
   "outputs": [
    {
     "data": {
      "text/html": [
       "0.691462461274013"
      ],
      "text/latex": [
       "0.691462461274013"
      ],
      "text/markdown": [
       "0.691462461274013"
      ],
      "text/plain": [
       "[1] 0.6914625"
      ]
     },
     "metadata": {},
     "output_type": "display_data"
    }
   ],
   "source": [
    "pnorm(102, 100, 4)"
   ]
  },
  {
   "cell_type": "markdown",
   "id": "1c82c00f",
   "metadata": {},
   "source": [
    "(b) Encuentra un intervalo inicial de máxima densidad al 95% para μ."
   ]
  },
  {
   "cell_type": "code",
   "execution_count": 5,
   "id": "8be28f59",
   "metadata": {
    "vscode": {
     "languageId": "r"
    }
   },
   "outputs": [
    {
     "name": "stdout",
     "output_type": "stream",
     "text": [
      "92.1601   107.8399"
     ]
    }
   ],
   "source": [
    "cat(round(qnorm(.025, 100, 4), 4), \" \", round(qnorm(.975, 100, 4), 4))"
   ]
  },
  {
   "cell_type": "markdown",
   "id": "9d732702",
   "metadata": {},
   "source": [
    "(c) Encuentra la probabilidad posterior de que μ < 102."
   ]
  },
  {
   "cell_type": "code",
   "execution_count": 15,
   "id": "754b4711",
   "metadata": {
    "vscode": {
     "languageId": "r"
    }
   },
   "outputs": [
    {
     "name": "stdout",
     "output_type": "stream",
     "text": [
      "Media:  103.7511 Varianza  0.4444444"
     ]
    }
   ],
   "source": [
    "sample <- c(105, 102, 102,101, 121, 108, 108, 105, 102, 111, 104, 112, 112, 101, 98, 105, 100, 102,\n",
    "101, 96, 110, 110,108, 100, 105, 96, 95, 108, 97, 103, 104, 103, 98, 100, 102, 103, 109,\n",
    "101, 106, 105, 108,108, 104, 106, 109, 107, 100, 101, 106, 103)\n",
    "\n",
    "n <- length(sample)\n",
    "nx <- sum(sample)\n",
    "\n",
    "v0 <- 4\n",
    "v <- 25\n",
    "m0 <- 100\n",
    "\n",
    "vp <- 1/(1/v0 + n/v)\n",
    "mp <- (nx/v+m0/v0)*vp\n",
    "\n",
    "cat(\"Media: \", mp, \"Varianza \", vp)"
   ]
  },
  {
   "cell_type": "markdown",
   "id": "d15e47c3",
   "metadata": {},
   "source": [
    "(d) Encuentra un intervalo posterior de máxima densidad al 95% para μ."
   ]
  },
  {
   "cell_type": "code",
   "execution_count": 16,
   "id": "bfb009fc",
   "metadata": {
    "vscode": {
     "languageId": "r"
    }
   },
   "outputs": [
    {
     "name": "stdout",
     "output_type": "stream",
     "text": [
      "102.88   104.6222"
     ]
    }
   ],
   "source": [
    "cat(round(qnorm(.025, mp, vp), 4), \" \", round(qnorm(.975, mp, vp), 4))"
   ]
  },
  {
   "cell_type": "markdown",
   "id": "7fc04c1a",
   "metadata": {},
   "source": [
    "## ACTIVIDAD 2: \n",
    "Piensa, escribe y resuelve una situación donde apliques prueba de hipótesis\n",
    "bayesiana. Comparte esta actividad resuelta en el foro de esta unidad para socializarla con\n",
    "tus compañeros.\n",
    "\n",
    "### Solución\n",
    "\n",
    "Usando los microdatos de la Encuesta Permanente de Hogares del 4to cuatrimestre de 2024, se quiere estimar la distribución de personas  mayores de 25 años cuyo nivel educativo máximo alcanzado es el universitario."
   ]
  },
  {
   "cell_type": "code",
   "execution_count": 2,
   "id": "c95db981",
   "metadata": {
    "vscode": {
     "languageId": "r"
    }
   },
   "outputs": [
    {
     "data": {
      "text/html": [
       "30378"
      ],
      "text/latex": [
       "30378"
      ],
      "text/markdown": [
       "30378"
      ],
      "text/plain": [
       "[1] 30378"
      ]
     },
     "metadata": {},
     "output_type": "display_data"
    }
   ],
   "source": [
    "data <- read.csv(\"usu_individual_T424.txt\", sep = \";\")\n",
    "nrow(data[data$CH06>=25,])"
   ]
  },
  {
   "cell_type": "code",
   "execution_count": 3,
   "id": "3aa3d645",
   "metadata": {
    "vscode": {
     "languageId": "r"
    }
   },
   "outputs": [
    {
     "data": {
      "text/html": [
       "7393"
      ],
      "text/latex": [
       "7393"
      ],
      "text/markdown": [
       "7393"
      ],
      "text/plain": [
       "[1] 7393"
      ]
     },
     "metadata": {},
     "output_type": "display_data"
    }
   ],
   "source": [
    "nrow(data[data$CH12==7,])"
   ]
  },
  {
   "cell_type": "code",
   "execution_count": 4,
   "id": "96d13dc0",
   "metadata": {
    "vscode": {
     "languageId": "r"
    }
   },
   "outputs": [
    {
     "data": {
      "image/png": "[encoded data removed]",
      "text/plain": [
       "plot without title"
      ]
     },
     "metadata": {
      "image/png": {
       "height": 420,
       "width": 420
      }
     },
     "output_type": "display_data"
    }
   ],
   "source": [
    "p = seq(0, 1, length=100)\n",
    "plot(p, dbeta(p, 2, 10), type='l')"
   ]
  },
  {
   "cell_type": "markdown",
   "id": "1385521e",
   "metadata": {},
   "source": [
    "A priori\n",
    "\n",
    "$$P(\\theta <= p) =Beta(\\theta, 2, 10)$$\n",
    "\n",
    "Verosimilitud\n",
    "\n",
    "$$P(y|\\theta)=Binomial(X = 7393, n=30378, p=\\theta)$$\n",
    "\n",
    "A posteriori\n",
    "\n",
    "$$P(\\theta|y)\\propto Beta(\\theta, 7395, 22995)$$\n"
   ]
  },
  {
   "cell_type": "code",
   "execution_count": 6,
   "id": "cdd94e06",
   "metadata": {
    "vscode": {
     "languageId": "r"
    }
   },
   "outputs": [
    {
     "data": {
      "text/html": [
       "0"
      ],
      "text/latex": [
       "0"
      ],
      "text/markdown": [
       "0"
      ],
      "text/plain": [
       "[1] 0"
      ]
     },
     "metadata": {},
     "output_type": "display_data"
    }
   ],
   "source": [
    "beta(7395, 22995)"
   ]
  },
  {
   "cell_type": "code",
   "execution_count": 7,
   "id": "d1c3945f",
   "metadata": {
    "vscode": {
     "languageId": "r"
    }
   },
   "outputs": [
    {
     "data": {
      "image/png": "[encoded data removed]",
      "text/plain": [
       "plot without title"
      ]
     },
     "metadata": {
      "image/png": {
       "height": 420,
       "width": 420
      }
     },
     "output_type": "display_data"
    }
   ],
   "source": [
    "p = seq(0, 1, length=100)\n",
    "plot(p, dbeta(p, 7395, 22995), type='l')"
   ]
  },
  {
   "cell_type": "code",
   "execution_count": 9,
   "id": "35988431",
   "metadata": {
    "vscode": {
     "languageId": "r"
    }
   },
   "outputs": [
    {
     "data": {
      "text/html": [
       "0.238528415998133"
      ],
      "text/latex": [
       "0.238528415998133"
      ],
      "text/markdown": [
       "0.238528415998133"
      ],
      "text/plain": [
       "[1] 0.2385284"
      ]
     },
     "metadata": {},
     "output_type": "display_data"
    },
    {
     "data": {
      "text/html": [
       "0.248176829032157"
      ],
      "text/latex": [
       "0.248176829032157"
      ],
      "text/markdown": [
       "0.248176829032157"
      ],
      "text/plain": [
       "[1] 0.2481768"
      ]
     },
     "metadata": {},
     "output_type": "display_data"
    }
   ],
   "source": [
    "qbeta(0.025, 7395, 22995)\n",
    "qbeta(0.975, 7395, 22995)"
   ]
  },
  {
   "cell_type": "code",
   "execution_count": 18,
   "id": "3334274a",
   "metadata": {
    "vscode": {
     "languageId": "r"
    }
   },
   "outputs": [
    {
     "data": {
      "text/html": [
       "NaN"
      ],
      "text/latex": [
       "NaN"
      ],
      "text/markdown": [
       "NaN"
      ],
      "text/plain": [
       "[1] NaN"
      ]
     },
     "metadata": {},
     "output_type": "display_data"
    }
   ],
   "source": [
    "binom(30378,7393)"
   ]
  }
 ],
 "metadata": {
  "kernelspec": {
   "display_name": "R",
   "language": "R",
   "name": "ir"
  },
  "language_info": {
   "codemirror_mode": "r",
   "file_extension": ".r",
   "mimetype": "text/x-r-source",
   "name": "R",
   "pygments_lexer": "r",
   "version": "4.4.3"
  }
 },
 "nbformat": 4,
 "nbformat_minor": 5
}
