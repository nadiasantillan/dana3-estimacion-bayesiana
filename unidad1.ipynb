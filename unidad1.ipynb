{
 "cells": [
  {
   "cell_type": "markdown",
   "metadata": {},
   "source": [
    "### Actividad 1\n",
    "\n",
    "Problema 1: Diagnóstico de Cáncer de Mama\n",
    "Un hospital utiliza una mamografía para detectar cáncer de mama en mujeres de 50 a 60 años. Se\n",
    "sabe que:\n",
    "La prevalencia del cáncer en esta población es del 1%.\n",
    "La sensibilidad de la mamografía es del 85% (si la mujer tiene cáncer, la prueba lo detecta en el 85%\n",
    "de los casos).\n",
    "La especificidad es del 90% (si la mujer no tiene cáncer, la prueba da negativo en el 90% de los\n",
    "casos).\n",
    "Si una mujer obtiene un resultado positivo en la mamografía, ¿cuál es la probabilidad de que\n",
    "realmente tenga cáncer?\n",
    "Para resolver con el enfoque bayesiano vamos a suponer que un oncólogo cree que, debido a\n",
    "antecedentes familiares, la probabilidad previa de cáncer en esta paciente es mayor, supongamos\n",
    "un 5%."
   ]
  },
  {
   "cell_type": "markdown",
   "metadata": {},
   "source": [
    "P(C) = 0.01 prevalencia\n",
    "\n",
    "P(+|C) = 0.85 sensibilidad mamografía\n",
    "\n",
    "P(-|~C) = 0.90 especificidad mamografía\n",
    "\n",
    "$$P(C|+) =\\frac{P(+|C)P(C)}{P(+)}$$\n",
    "\n",
    "Por probabilidad total:\n",
    "\n",
    "$$P(+) = P(+|C)P(C)+P(+|\\neg{C})P(\\neg{C})$$\n",
    "\n",
    "Falsos positivos\n",
    "\n",
    "$$P(+|\\neg{C}) = 1 - P(-|\\neg{C}) $$\n",
    "\n",
    "Cálculo de P(+):"
   ]
  },
  {
   "cell_type": "code",
   "execution_count": 10,
   "metadata": {},
   "outputs": [],
   "source": [
    "def p_positive(sensivity, prevalence, specificity):\n",
    "    p_false_positives = 1 - specificity\n",
    "    p_healthy = 1 - prevalence\n",
    "    return sensivity * prevalence + p_false_positives * p_healthy\n",
    "\n",
    "def p_true_positive(sensivity, prevalence, specificity):\n",
    "    return sensivity * prevalence / p_positive(sensivity, prevalence, specificity)"
   ]
  },
  {
   "cell_type": "code",
   "execution_count": 9,
   "metadata": {},
   "outputs": [
    {
     "name": "stdout",
     "output_type": "stream",
     "text": [
      "P(+) = 0.1075\n"
     ]
    }
   ],
   "source": [
    "sensivity = 0.85\n",
    "specificity = 0.90\n",
    "prevalence = 0.01\n",
    "print(\"P(+) =\", round(p_positive(sensivity, prevalence, specificity),5))"
   ]
  },
  {
   "cell_type": "markdown",
   "metadata": {},
   "source": [
    "Cálculo de P(C|+):"
   ]
  },
  {
   "cell_type": "code",
   "execution_count": 11,
   "metadata": {},
   "outputs": [
    {
     "name": "stdout",
     "output_type": "stream",
     "text": [
      "P(C|+) = 0.07907\n"
     ]
    }
   ],
   "source": [
    "print(\"P(C|+) =\", round(p_true_positive(sensivity, prevalence, specificity),5))"
   ]
  },
  {
   "cell_type": "markdown",
   "metadata": {},
   "source": [
    "Actualizado el valor de prevalencia según la información del médico:"
   ]
  },
  {
   "cell_type": "code",
   "execution_count": 13,
   "metadata": {},
   "outputs": [
    {
     "name": "stdout",
     "output_type": "stream",
     "text": [
      "P(C|+) = 0.30909\n"
     ]
    }
   ],
   "source": [
    "print(\"P(C|+) =\", round(p_true_positive(sensivity, 0.05, specificity),5))"
   ]
  },
  {
   "cell_type": "markdown",
   "metadata": {},
   "source": [
    "Problema 2: Producción de Componentes Electrónicos\n",
    "Una fábrica produce microchips y sabe que un 3% de ellos es defectuoso. Para detectar defectos, se\n",
    "usa una prueba con:\n",
    "Sensibilidad del 95% (detecta defectos en el 95% de los casos).\n",
    "Especificidad del 98% (los chips en buen estado pasan la prueba en el 98% de los casos).\n",
    "Si un chip es identificado como defectuoso, ¿cuál es la probabilidad de que realmente lo esté?\n",
    "Para resolver con el enfoque bayesiano supongamos que, en un lote específico, la fábrica sospecha\n",
    "un aumento en la tasa de defectos al 6%."
   ]
  },
  {
   "cell_type": "code",
   "execution_count": 17,
   "metadata": {},
   "outputs": [
    {
     "name": "stdout",
     "output_type": "stream",
     "text": [
      "P(+) = 0.0479\n",
      "P(defectuoso|+) = 0.59499\n"
     ]
    }
   ],
   "source": [
    "sensivity = 0.95\n",
    "specificity = 0.98\n",
    "prevalence = 0.03\n",
    "\n",
    "print(\"P(+) =\", round(p_positive(sensivity, prevalence, specificity),5))\n",
    "print(\"P(defectuoso|+) =\", round(p_true_positive(sensivity, prevalence, specificity),5))"
   ]
  },
  {
   "cell_type": "markdown",
   "metadata": {},
   "source": [
    "Actualizada la tasa de defectos al 6%:"
   ]
  },
  {
   "cell_type": "code",
   "execution_count": 18,
   "metadata": {},
   "outputs": [
    {
     "name": "stdout",
     "output_type": "stream",
     "text": [
      "P(+) = 0.0758\n",
      "P(defectuoso|+) = 0.75198\n"
     ]
    }
   ],
   "source": [
    "print(\"P(+) =\", round(p_positive(sensivity, 0.06, specificity),5))\n",
    "print(\"P(defectuoso|+) =\", round(p_true_positive(sensivity, 0.06, specificity),5))"
   ]
  },
  {
   "cell_type": "markdown",
   "metadata": {},
   "source": [
    "### Actividad 2\n",
    "\n",
    "Problema 1\n",
    "\n",
    "Suponga que el gerente de una planta descubre que la proporción de artículos defectuosos en su\n",
    "proceso de producción no es una constante, sino que se comporta como una variable aleatoria. Sin\n",
    "ninguna evidencia decide asignar una distribución beta con α=1 y β=24 para la producción de\n",
    "artículos defectuosos.\n",
    "\n",
    "a) Calcule la media y la varianza de la función de densidad a priori\n",
    "\n",
    "b) Suponga que el gerente toma una muestra de 12 artículos y encuentra uno defectuoso.\n",
    "Obtenga la función de densidad a posteriori en base a la nueva evidencia.\n",
    "\n",
    "c) Calcule la media y la varianza de la función de densidad a posteriori."
   ]
  },
  {
   "cell_type": "markdown",
   "metadata": {},
   "source": [
    "#### Distribución Beta\n",
    "\n",
    "$$Beta(X,\\alpha, \\beta) = \\frac{x^{\\alpha-1}(1-x)^{\\beta-1}}{B(\\alpha, \\beta)}$$\n",
    "\n",
    "Función Beta\n",
    "\n",
    "$$B(x, y) = \\frac{\\Gamma(x)\\Gamma(y)}{\\Gamma(x+y)}$$\n",
    "\n",
    "Función Gamma para números naturales\n",
    "\n",
    "$$\\Gamma(n)=(n-1)!$$\n",
    "\n",
    "Esperanza\n",
    "\n",
    "$$E[X] = \\frac{\\alpha}{\\alpha+\\beta}$$\n",
    "\n",
    "Varianza\n",
    "$$V[X] = \\frac{\\alpha\\beta}{(\\alpha+\\beta+1)(\\alpha+\\beta)^2}$$"
   ]
  },
  {
   "cell_type": "code",
   "execution_count": 20,
   "metadata": {},
   "outputs": [
    {
     "name": "stdout",
     "output_type": "stream",
     "text": [
      "Media a priori 0.04\n",
      "Varianza a priori 576.92308\n"
     ]
    }
   ],
   "source": [
    "a = 1\n",
    "b = 24\n",
    "print(\"Media a priori\", round(a/(a+b), 5))\n",
    "print(\"Varianza a priori\", round(a*b/(a+b+1)*pow(a+b, 2), 5))"
   ]
  },
  {
   "cell_type": "markdown",
   "metadata": {},
   "source": [
    "A priori\n",
    "$$P(\\theta)=Beta(X,1, 24) = \\frac{x^{(1-1)}(1-x)^{(24-1)}}{B(1, 24)}$$\n",
    "\n",
    "Actualizados los datos con la evidencia de 1 artículo defectuoso en una muestra de 12 (Función de verosimilitud?).\n",
    "\n",
    "$$P(X|\\theta) = Binomial(12,\\theta)=\\binom{12}{X} \\theta^{n}(1-\\theta)^{(12-n)}$$\n",
    "\n",
    "$$P(\\theta|X)=P(X|\\theta)P(\\theta)$$\n",
    "$$P(\\theta|X)=Binomial(12,\\theta) Beta(X,1, 24)$$\n",
    "$$P(\\theta|X)=\\binom{12}{X}\\theta^{X}(1-\\theta)^{(12-X)} \\frac{X^{\\alpha-1}(1-X)^{\\beta-1}}{B(\\alpha, \\beta)}$$\n",
    "$$P(\\theta|X)=\\frac{\\binom{12}{X}}{B(\\alpha, \\beta)}\\theta^{X}(1-\\theta)^{(12-X)}\\theta^{\\alpha-1}(1-\\theta)^{\\beta-1}$$\n",
    "$$P(\\theta|X)=\\frac{\\frac{12!}{X!(12-X)!}}{\\frac{(\\alpha-1)!(\\beta-1)!}{(\\alpha+\\beta-1)!}}\\theta^{X+\\alpha-1}(1-\\theta)^{(12-X+\\beta-1)}$$\n",
    "Con $\\alpha=1$, $\\beta=24$ y $X = 1$:\n",
    "$$P(\\theta|X)=\\frac{12}{\\frac{0!23!}{24!}}\\theta^{1+\\alpha-1}(1-\\theta)^{(12-1+\\beta-1)}$$\n",
    "$$P(\\theta|X)=\\frac{12}{\\frac{1}{24}}\\theta^{1+\\alpha-1}(1-\\theta)^{(12-1+\\beta-1)}$$\n",
    "$$P(\\theta|X)\\propto Beta(\\alpha+1, \\beta+12-1)=Beta(2,35)$$"
   ]
  }
 ],
 "metadata": {
  "kernelspec": {
   "display_name": ".venv",
   "language": "python",
   "name": "python3"
  },
  "language_info": {
   "codemirror_mode": {
    "name": "ipython",
    "version": 3
   },
   "file_extension": ".py",
   "mimetype": "text/x-python",
   "name": "python",
   "nbconvert_exporter": "python",
   "pygments_lexer": "ipython3",
   "version": "3.10.12"
  }
 },
 "nbformat": 4,
 "nbformat_minor": 2
}
