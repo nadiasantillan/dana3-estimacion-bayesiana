{
 "cells": [
  {
   "cell_type": "markdown",
   "metadata": {},
   "source": [
    "### Actividad 1\n",
    "\n",
    "Problema 1: Diagnóstico de Cáncer de Mama\n",
    "Un hospital utiliza una mamografía para detectar cáncer de mama en mujeres de 50 a 60 años. Se\n",
    "sabe que:\n",
    "La prevalencia del cáncer en esta población es del 1%.\n",
    "La sensibilidad de la mamografía es del 85% (si la mujer tiene cáncer, la prueba lo detecta en el 85%\n",
    "de los casos).\n",
    "La especificidad es del 90% (si la mujer no tiene cáncer, la prueba da negativo en el 90% de los\n",
    "casos).\n",
    "Si una mujer obtiene un resultado positivo en la mamografía, ¿cuál es la probabilidad de que\n",
    "realmente tenga cáncer?\n",
    "Para resolver con el enfoque bayesiano vamos a suponer que un oncólogo cree que, debido a\n",
    "antecedentes familiares, la probabilidad previa de cáncer en esta paciente es mayor, supongamos\n",
    "un 5%."
   ]
  },
  {
   "cell_type": "markdown",
   "metadata": {},
   "source": [
    "P(C) = 0.01 prevalencia\n",
    "\n",
    "P(+|C) = 0.85 sensibilidad mamografía\n",
    "\n",
    "P(-|~C) = 0.90 especificidad mamografía\n",
    "\n",
    "$$P(C|+) =\\frac{P(+|C)P(C)}{P(+)}$$\n",
    "\n",
    "Por probabilidad total:\n",
    "\n",
    "$$P(+) = P(+|C)P(C)+P(+|\\neg{C})P(\\neg{C})$$\n",
    "\n",
    "Falsos positivos\n",
    "\n",
    "$$P(+|\\neg{C}) = 1 - P(-|\\neg{C}) $$\n",
    "\n",
    "Cálculo de P(+):"
   ]
  },
  {
   "cell_type": "code",
   "execution_count": 10,
   "metadata": {},
   "outputs": [],
   "source": [
    "def p_positive(sensivity, prevalence, specificity):\n",
    "    p_false_positives = 1 - specificity\n",
    "    p_healthy = 1 - prevalence\n",
    "    return sensivity * prevalence + p_false_positives * p_healthy\n",
    "\n",
    "def p_true_positive(sensivity, prevalence, specificity):\n",
    "    return sensivity * prevalence / p_positive(sensivity, prevalence, specificity)"
   ]
  },
  {
   "cell_type": "code",
   "execution_count": 9,
   "metadata": {},
   "outputs": [
    {
     "name": "stdout",
     "output_type": "stream",
     "text": [
      "P(+) = 0.1075\n"
     ]
    }
   ],
   "source": [
    "sensivity = 0.85\n",
    "specificity = 0.90\n",
    "prevalence = 0.01\n",
    "print(\"P(+) =\", round(p_positive(sensivity, prevalence, specificity),5))"
   ]
  },
  {
   "cell_type": "markdown",
   "metadata": {},
   "source": [
    "Cálculo de P(C|+):"
   ]
  },
  {
   "cell_type": "code",
   "execution_count": 11,
   "metadata": {},
   "outputs": [
    {
     "name": "stdout",
     "output_type": "stream",
     "text": [
      "P(C|+) = 0.07907\n"
     ]
    }
   ],
   "source": [
    "print(\"P(C|+) =\", round(p_true_positive(sensivity, prevalence, specificity),5))"
   ]
  },
  {
   "cell_type": "markdown",
   "metadata": {},
   "source": [
    "Actualizado el valor de prevalencia según la información del médico:"
   ]
  },
  {
   "cell_type": "code",
   "execution_count": 13,
   "metadata": {},
   "outputs": [
    {
     "name": "stdout",
     "output_type": "stream",
     "text": [
      "P(C|+) = 0.30909\n"
     ]
    }
   ],
   "source": [
    "print(\"P(C|+) =\", round(p_true_positive(sensivity, 0.05, specificity),5))"
   ]
  },
  {
   "cell_type": "markdown",
   "metadata": {},
   "source": [
    "Problema 2: Producción de Componentes Electrónicos\n",
    "Una fábrica produce microchips y sabe que un 3% de ellos es defectuoso. Para detectar defectos, se\n",
    "usa una prueba con:\n",
    "Sensibilidad del 95% (detecta defectos en el 95% de los casos).\n",
    "Especificidad del 98% (los chips en buen estado pasan la prueba en el 98% de los casos).\n",
    "Si un chip es identificado como defectuoso, ¿cuál es la probabilidad de que realmente lo esté?\n",
    "Para resolver con el enfoque bayesiano supongamos que, en un lote específico, la fábrica sospecha\n",
    "un aumento en la tasa de defectos al 6%."
   ]
  },
  {
   "cell_type": "code",
   "execution_count": 17,
   "metadata": {},
   "outputs": [
    {
     "name": "stdout",
     "output_type": "stream",
     "text": [
      "P(+) = 0.0479\n",
      "P(defectuoso|+) = 0.59499\n"
     ]
    }
   ],
   "source": [
    "sensivity = 0.95\n",
    "specificity = 0.98\n",
    "prevalence = 0.03\n",
    "\n",
    "print(\"P(+) =\", round(p_positive(sensivity, prevalence, specificity),5))\n",
    "print(\"P(defectuoso|+) =\", round(p_true_positive(sensivity, prevalence, specificity),5))"
   ]
  },
  {
   "cell_type": "markdown",
   "metadata": {},
   "source": [
    "Actualizada la tasa de defectos al 6%:"
   ]
  },
  {
   "cell_type": "code",
   "execution_count": 18,
   "metadata": {},
   "outputs": [
    {
     "name": "stdout",
     "output_type": "stream",
     "text": [
      "P(+) = 0.0758\n",
      "P(defectuoso|+) = 0.75198\n"
     ]
    }
   ],
   "source": [
    "print(\"P(+) =\", round(p_positive(sensivity, 0.06, specificity),5))\n",
    "print(\"P(defectuoso|+) =\", round(p_true_positive(sensivity, 0.06, specificity),5))"
   ]
  },
  {
   "cell_type": "markdown",
   "metadata": {},
   "source": [
    "### Actividad 2\n",
    "\n",
    "Problema 1\n",
    "\n",
    "Suponga que el gerente de una planta descubre que la proporción de artículos defectuosos en su\n",
    "proceso de producción no es una constante, sino que se comporta como una variable aleatoria. Sin\n",
    "ninguna evidencia decide asignar una distribución beta con α=1 y β=24 para la producción de\n",
    "artículos defectuosos.\n",
    "\n",
    "a) Calcule la media y la varianza de la función de densidad a priori\n",
    "\n",
    "b) Suponga que el gerente toma una muestra de 12 artículos y encuentra uno defectuoso.\n",
    "Obtenga la función de densidad a posteriori en base a la nueva evidencia.\n",
    "\n",
    "c) Calcule la media y la varianza de la función de densidad a posteriori."
   ]
  },
  {
   "cell_type": "markdown",
   "metadata": {},
   "source": [
    "#### Distribución Beta\n",
    "\n",
    "$$Beta(X,\\alpha, \\beta) = \\frac{x^{\\alpha-1}(1-x)^{\\beta-1}}{B(\\alpha, \\beta)}$$\n",
    "\n",
    "Función Beta\n",
    "\n",
    "$$B(x, y) = \\frac{\\Gamma(x)\\Gamma(y)}{\\Gamma(x+y)}$$\n",
    "\n",
    "Función Gamma para números naturales\n",
    "\n",
    "$$\\Gamma(n)=(n-1)!$$\n",
    "\n",
    "Esperanza\n",
    "\n",
    "$$E[X] = \\frac{\\alpha}{\\alpha+\\beta}$$\n",
    "\n",
    "Varianza\n",
    "$$V[X] = \\frac{\\alpha\\beta}{(\\alpha+\\beta+1)(\\alpha+\\beta)^2}$$"
   ]
  },
  {
   "cell_type": "code",
   "execution_count": 20,
   "metadata": {},
   "outputs": [
    {
     "name": "stdout",
     "output_type": "stream",
     "text": [
      "Media a priori 0.04\n",
      "Varianza a priori 576.92308\n"
     ]
    }
   ],
   "source": [
    "a = 1\n",
    "b = 24\n",
    "print(\"Media a priori\", round(a/(a+b), 5))\n",
    "print(\"Varianza a priori\", round(a*b/(a+b+1)*pow(a+b, 2), 5))"
   ]
  },
  {
   "cell_type": "markdown",
   "metadata": {},
   "source": [
    "A priori\n",
    "$$P(\\theta)=Beta(X,1, 24) = \\frac{x^{(1-1)}(1-x)^{(24-1)}}{B(1, 24)}$$\n",
    "\n",
    "Actualizados los datos con la evidencia de 1 artículo defectuoso en una muestra de 12 (Función de verosimilitud?).\n",
    "\n",
    "$$P(X|\\theta) = Binomial(12,\\theta)=\\binom{12}{X} \\theta^{n}(1-\\theta)^{(12-n)}$$\n",
    "\n",
    "$$P(\\theta|X)=P(X|\\theta)P(\\theta)$$\n",
    "$$P(\\theta|X)=Binomial(12,\\theta) Beta(X,1, 24)$$\n",
    "$$P(\\theta|X)=\\binom{12}{X}\\theta^{X}(1-\\theta)^{(12-X)} \\frac{\\theta^{\\alpha-1}(1-\\theta)^{\\beta-1}}{B(\\alpha, \\beta)}$$\n",
    "$$P(\\theta|X)=\\frac{\\binom{12}{X}}{B(\\alpha, \\beta)}\\theta^{X}(1-\\theta)^{(12-X)}\\theta^{\\alpha-1}(1-\\theta)^{\\beta-1}$$\n",
    "$$P(\\theta|X)=\\frac{\\frac{12!}{X!(12-X)!}}{\\frac{(\\alpha-1)!(\\beta-1)!}{(\\alpha+\\beta-1)!}}\\theta^{X+\\alpha-1}(1-\\theta)^{(12-X+\\beta-1)}$$\n",
    "Con $\\alpha=1$, $\\beta=24$ y $X = 1$:\n",
    "$$P(\\theta|X)=\\frac{12}{\\frac{0!23!}{24!}}\\theta^{1+\\alpha-1}(1-\\theta)^{(12-1+\\beta-1)}$$\n",
    "$$P(\\theta|X)=\\frac{12}{\\frac{1}{24}}\\theta^{1+\\alpha-1}(1-\\theta)^{(12-1+\\beta-1)}$$\n",
    "$$P(\\theta|X)\\propto Beta(\\alpha+1, \\beta+12-1)$$\n",
    "$$Beta(2,35)=\\frac{x^{(2-1)}(1-x)^{(35-1)}}{B(2, 35)}$$\n",
    "$$B(2,35)=\\frac{\\Gamma(2)\\Gamma(35)}{\\Gamma(2+35)}=\\frac{(2-1)!(35-1)!}{(37-1)!}=\\frac{1!34!}{36!}=\\frac{1}{36.35}$$\n",
    "\n",
    "$$P(\\theta|X)=\\frac{36.35}{12.24} Beta(\\alpha+1, \\beta+12-1)$$"
   ]
  },
  {
   "cell_type": "code",
   "execution_count": 1,
   "metadata": {},
   "outputs": [
    {
     "data": {
      "text/plain": [
       "4.375"
      ]
     },
     "execution_count": 1,
     "metadata": {},
     "output_type": "execute_result"
    }
   ],
   "source": [
    "36*35/12/24"
   ]
  },
  {
   "cell_type": "markdown",
   "metadata": {},
   "source": [
    "$$P(\\theta|X)=4.375 Beta(2, 35)$$"
   ]
  },
  {
   "cell_type": "code",
   "execution_count": 3,
   "metadata": {},
   "outputs": [
    {
     "name": "stdout",
     "output_type": "stream",
     "text": [
      "Media a priori 0.23649\n",
      "Varianza a priori 48269.63405\n"
     ]
    }
   ],
   "source": [
    "a = 2\n",
    "b = 35\n",
    "f = 4.375\n",
    "print(\"Media a priori\", round(a*f/(a+b), 5))\n",
    "print(\"Varianza a priori\", round(a*b*pow(f,2)/(a+b+1)*pow(a+b, 2), 5))"
   ]
  },
  {
   "cell_type": "markdown",
   "metadata": {},
   "source": [
    "#### Problema 2\n",
    "La compañía Aceros Arg. vende miles de embarques de vigas de acero. De cada embarque las\n",
    "resistencias a la rotura de las vigas están distribuidas normalmente alrededor de una media μ con\n",
    "desviación estándar 17,3. Sin embargo μ varia de un embarque a otro debido a un control de calidad\n",
    "deficiente. Se puede aproximar su distribución por medio de una normal con media 60 y desviación\n",
    "estándar 10.\n",
    "\n",
    "a) Determine la distribución a posteriori\n",
    "\n",
    "b) Calcule la probabilidad de que μ sea inferior a 62,5 antes y después de tomar la muestra."
   ]
  },
  {
   "cell_type": "markdown",
   "metadata": {},
   "source": [
    "Distribución a priori\n",
    "\n",
    "$$P(\\text{Resistencia a roturas}) = N(\\mu, \\sigma=17.3)$$\n",
    "\n",
    "Evidencia/Verosimilitud\n",
    "\n",
    "$$\\mu = N(60, 10)$$\n",
    "\n",
    "Distribución a posteriori\n",
    "\n",
    "$$P(\\text{Resistencia a roturas}|\\mu) = N(\\frac{nr}{\\tau_0+nr} \\overline x+\\frac{\\tau_0}{\\tau_0+nr}\\mu_0, \\frac{1}{\\tau_0+nr})$$\n",
    "\n",
    "$$\\tau_0+nr = \\tau_1 \\implies nr = \\tau_1-\\tau_0$$\n",
    "\n",
    "$$P(\\text{Resistencia a roturas}|\\mu) = N(\\frac{\\tau_1-\\tau_0}{\\tau_1} \\overline x+\\frac{\\tau_0}{\\tau_1}\\mu_0, \\frac{1}{\\tau_1})$$\n",
    "\n",
    "$$\\sigma_0=17.3 \\implies \\tau_0=\\frac{1}{17.3^2}=0.00334$$\n",
    "\n",
    "$$\\sigma_1=10 \\implies \\tau_1=\\frac{1}{10^2}=0.01$$\n",
    "\n",
    "\n",
    "$$P(\\text{Resistencia a roturas}|\\mu) = N(\\frac{0.00666}{0.01} 60+\\frac{0.00334}{0.01}\\mu_0, 100)$$\n",
    "$$P(\\text{Resistencia a roturas}|\\mu) = N(39.96+0.334\\mu_0, 100)$$\n",
    "\n",
    "\n"
   ]
  },
  {
   "cell_type": "code",
   "execution_count": 14,
   "metadata": {},
   "outputs": [
    {
     "name": "stdout",
     "output_type": "stream",
     "text": [
      "tau0 0.00334\n",
      "tau1 0.01\n",
      "tau1-tau0 0.00666\n",
      "mu1(tau1-tau0)/tau1 39.96\n"
     ]
    }
   ],
   "source": [
    "t1 = round(1/pow(10,2), 5)\n",
    "t0 = round(1/pow(17.3,2), 5)\n",
    "print(\"tau0\", t0)\n",
    "print(\"tau1\", t1)\n",
    "\n",
    "t1_t0 = round(t1-t0,5)\n",
    "print(\"tau1-tau0\", t1_t0)\n",
    "\n",
    "print(\"mu1(tau1-tau0)/tau1\", round(60*t1_t0/t1,5))\n",
    "\n"
   ]
  },
  {
   "cell_type": "markdown",
   "metadata": {},
   "source": [
    "Calcule la probabilidad de que μ sea inferior a 62,5:\n",
    "\n",
    "1. antes ???\n",
    "2. después"
   ]
  },
  {
   "cell_type": "code",
   "execution_count": 15,
   "metadata": {},
   "outputs": [
    {
     "data": {
      "text/plain": [
       "np.float64(0.5987063256829237)"
      ]
     },
     "execution_count": 15,
     "metadata": {},
     "output_type": "execute_result"
    }
   ],
   "source": [
    "from scipy.stats import norm\n",
    "norm.cdf((62.5-60)/10)"
   ]
  }
 ],
 "metadata": {
  "kernelspec": {
   "display_name": ".venv",
   "language": "python",
   "name": "python3"
  },
  "language_info": {
   "codemirror_mode": {
    "name": "ipython",
    "version": 3
   },
   "file_extension": ".py",
   "mimetype": "text/x-python",
   "name": "python",
   "nbconvert_exporter": "python",
   "pygments_lexer": "ipython3",
   "version": "3.10.12"
  }
 },
 "nbformat": 4,
 "nbformat_minor": 2
}
